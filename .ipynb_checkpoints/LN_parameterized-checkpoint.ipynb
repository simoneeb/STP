{
 "cells": [
  {
   "cell_type": "code",
   "execution_count": 2,
   "id": "c6632a8b-57c9-4a0a-b1dd-62e6f24010db",
   "metadata": {},
   "outputs": [
    {
     "name": "stderr",
     "output_type": "stream",
     "text": [
      "/home/sebert/Documents/Repositories/STP /LN_Model.py:100: SyntaxWarning: \"is\" with a literal. Did you mean \"==\"?\n",
      "  if self.polarities[0] is 'ON':\n",
      "/home/sebert/Documents/Repositories/STP /LN_Model.py:103: SyntaxWarning: \"is\" with a literal. Did you mean \"==\"?\n",
      "  if self.polarities[0] is 'OFF':\n",
      "/home/sebert/Documents/Repositories/STP /LN_Model.py:110: SyntaxWarning: \"is\" with a literal. Did you mean \"==\"?\n",
      "  if self.polarities[0] is 'ON':\n",
      "/home/sebert/Documents/Repositories/STP /LN_Model.py:113: SyntaxWarning: \"is\" with a literal. Did you mean \"==\"?\n",
      "  if self.polarities[0] is 'OFF':\n"
     ]
    },
    {
     "ename": "ModuleNotFoundError",
     "evalue": "No module named 'utils'",
     "output_type": "error",
     "traceback": [
      "Traceback \u001b[0;36m(most recent call last)\u001b[0m:\n",
      "\u001b[0m  Cell \u001b[1;32mIn[2], line 1\u001b[0m\n    from LN_Model import LN_Model\u001b[0m\n",
      "\u001b[0;36m  File \u001b[0;32m/home/sebert/Documents/Repositories/STP /LN_Model.py:7\u001b[0;36m\n\u001b[0;31m    from utils import calculate_VG_baseline, calculate_n_eq\u001b[0;36m\n",
      "\u001b[0;31mModuleNotFoundError\u001b[0m\u001b[0;31m:\u001b[0m No module named 'utils'\n"
     ]
    }
   ],
   "source": [
    "from LN_Model import LN_Model"
   ]
  },
  {
   "cell_type": "code",
   "execution_count": null,
   "id": "2d36729f-6f21-4120-aaf9-e949511ec38b",
   "metadata": {},
   "outputs": [],
   "source": [
    "# get parameter from jorges file\n",
    "\n",
    "# \n",
    "\n"
   ]
  }
 ],
 "metadata": {
  "kernelspec": {
   "display_name": "Python 3 (Spyder)",
   "language": "python3",
   "name": "python3"
  },
  "language_info": {
   "codemirror_mode": {
    "name": "ipython",
    "version": 3
   },
   "file_extension": ".py",
   "mimetype": "text/x-python",
   "name": "python",
   "nbconvert_exporter": "python",
   "pygments_lexer": "ipython3",
   "version": "3.9.16"
  }
 },
 "nbformat": 4,
 "nbformat_minor": 5
}
